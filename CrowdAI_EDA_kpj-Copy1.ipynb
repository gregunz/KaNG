{
 "cells": [
  {
   "cell_type": "code",
   "execution_count": 1,
   "metadata": {},
   "outputs": [],
   "source": [
    "import pandas as pd\n",
    "import numpy as np\n",
    "\n",
    "import seaborn as sns\n",
    "import matplotlib.pyplot as plt\n",
    "\n",
    "from tqdm import tqdm_notebook as tqdm\n",
    "\n",
    "from sklearn.metrics import classification_report\n",
    "from sklearn.pipeline import Pipeline\n",
    "from sklearn.model_selection import StratifiedKFold"
   ]
  },
  {
   "cell_type": "code",
   "execution_count": 2,
   "metadata": {},
   "outputs": [],
   "source": [
    "sns.set_context('talk')"
   ]
  },
  {
   "cell_type": "markdown",
   "metadata": {},
   "source": [
    "# Load data"
   ]
  },
  {
   "cell_type": "code",
   "execution_count": 3,
   "metadata": {},
   "outputs": [],
   "source": [
    "df = pd.read_csv('data/train.csv').set_index('customer')"
   ]
  },
  {
   "cell_type": "code",
   "execution_count": 4,
   "metadata": {},
   "outputs": [],
   "source": [
    "del_columns = ['category', 'nationality', 'is_pep']\n",
    "for var_ in del_columns:\n",
    "    df.drop(var_, axis=1, inplace=True)"
   ]
  },
  {
   "cell_type": "code",
   "execution_count": 5,
   "metadata": {},
   "outputs": [
    {
     "data": {
      "text/plain": [
       "9087"
      ]
     },
     "execution_count": 5,
     "metadata": {},
     "output_type": "execute_result"
    }
   ],
   "source": [
    "df['suspicious'].astype(int).sum()"
   ]
  },
  {
   "cell_type": "code",
   "execution_count": 6,
   "metadata": {},
   "outputs": [
    {
     "data": {
      "text/html": [
       "<div>\n",
       "<style scoped>\n",
       "    .dataframe tbody tr th:only-of-type {\n",
       "        vertical-align: middle;\n",
       "    }\n",
       "\n",
       "    .dataframe tbody tr th {\n",
       "        vertical-align: top;\n",
       "    }\n",
       "\n",
       "    .dataframe thead th {\n",
       "        text-align: right;\n",
       "    }\n",
       "</style>\n",
       "<table border=\"1\" class=\"dataframe\">\n",
       "  <thead>\n",
       "    <tr style=\"text-align: right;\">\n",
       "      <th></th>\n",
       "      <th>suspicious</th>\n",
       "      <th>turnover</th>\n",
       "      <th>transaction_count</th>\n",
       "      <th>io_ratio</th>\n",
       "      <th>age</th>\n",
       "      <th>inactive_days_average</th>\n",
       "      <th>inactive_days_max</th>\n",
       "      <th>n_of_accounts</th>\n",
       "      <th>distinct_counterparties</th>\n",
       "      <th>channel_risk</th>\n",
       "      <th>atm_withdrawal</th>\n",
       "      <th>atm_deposit</th>\n",
       "    </tr>\n",
       "    <tr>\n",
       "      <th>customer</th>\n",
       "      <th></th>\n",
       "      <th></th>\n",
       "      <th></th>\n",
       "      <th></th>\n",
       "      <th></th>\n",
       "      <th></th>\n",
       "      <th></th>\n",
       "      <th></th>\n",
       "      <th></th>\n",
       "      <th></th>\n",
       "      <th></th>\n",
       "      <th></th>\n",
       "    </tr>\n",
       "  </thead>\n",
       "  <tbody>\n",
       "    <tr>\n",
       "      <th>90000000</th>\n",
       "      <td>0</td>\n",
       "      <td>734958.58</td>\n",
       "      <td>7.0</td>\n",
       "      <td>0.142857</td>\n",
       "      <td>79.0</td>\n",
       "      <td>24.63</td>\n",
       "      <td>124.0</td>\n",
       "      <td>3</td>\n",
       "      <td>6.0</td>\n",
       "      <td>0.128703</td>\n",
       "      <td>215959.85</td>\n",
       "      <td>832.364854</td>\n",
       "    </tr>\n",
       "    <tr>\n",
       "      <th>90000001</th>\n",
       "      <td>0</td>\n",
       "      <td>1009400.35</td>\n",
       "      <td>2.0</td>\n",
       "      <td>0.500000</td>\n",
       "      <td>0.0</td>\n",
       "      <td>78.49</td>\n",
       "      <td>79.0</td>\n",
       "      <td>3</td>\n",
       "      <td>1.0</td>\n",
       "      <td>0.635584</td>\n",
       "      <td>53.97</td>\n",
       "      <td>34.752298</td>\n",
       "    </tr>\n",
       "    <tr>\n",
       "      <th>90000002</th>\n",
       "      <td>0</td>\n",
       "      <td>11051.68</td>\n",
       "      <td>3.0</td>\n",
       "      <td>0.666667</td>\n",
       "      <td>77.0</td>\n",
       "      <td>35.74</td>\n",
       "      <td>72.0</td>\n",
       "      <td>2</td>\n",
       "      <td>1.0</td>\n",
       "      <td>0.138152</td>\n",
       "      <td>1632.91</td>\n",
       "      <td>17.323031</td>\n",
       "    </tr>\n",
       "    <tr>\n",
       "      <th>90000003</th>\n",
       "      <td>0</td>\n",
       "      <td>31193.29</td>\n",
       "      <td>81.0</td>\n",
       "      <td>0.308642</td>\n",
       "      <td>77.0</td>\n",
       "      <td>2.05</td>\n",
       "      <td>95.0</td>\n",
       "      <td>2</td>\n",
       "      <td>2.0</td>\n",
       "      <td>0.333904</td>\n",
       "      <td>3203.10</td>\n",
       "      <td>50.945281</td>\n",
       "    </tr>\n",
       "    <tr>\n",
       "      <th>90000004</th>\n",
       "      <td>0</td>\n",
       "      <td>205489.77</td>\n",
       "      <td>1.0</td>\n",
       "      <td>1.000000</td>\n",
       "      <td>39.0</td>\n",
       "      <td>147.53</td>\n",
       "      <td>148.0</td>\n",
       "      <td>4</td>\n",
       "      <td>1.0</td>\n",
       "      <td>0.341578</td>\n",
       "      <td>5626.65</td>\n",
       "      <td>0.000000</td>\n",
       "    </tr>\n",
       "  </tbody>\n",
       "</table>\n",
       "</div>"
      ],
      "text/plain": [
       "          suspicious    turnover  transaction_count  io_ratio   age  \\\n",
       "customer                                                              \n",
       "90000000           0   734958.58                7.0  0.142857  79.0   \n",
       "90000001           0  1009400.35                2.0  0.500000   0.0   \n",
       "90000002           0    11051.68                3.0  0.666667  77.0   \n",
       "90000003           0    31193.29               81.0  0.308642  77.0   \n",
       "90000004           0   205489.77                1.0  1.000000  39.0   \n",
       "\n",
       "          inactive_days_average  inactive_days_max  n_of_accounts  \\\n",
       "customer                                                            \n",
       "90000000                  24.63              124.0              3   \n",
       "90000001                  78.49               79.0              3   \n",
       "90000002                  35.74               72.0              2   \n",
       "90000003                   2.05               95.0              2   \n",
       "90000004                 147.53              148.0              4   \n",
       "\n",
       "          distinct_counterparties  channel_risk  atm_withdrawal  atm_deposit  \n",
       "customer                                                                      \n",
       "90000000                      6.0      0.128703       215959.85   832.364854  \n",
       "90000001                      1.0      0.635584           53.97    34.752298  \n",
       "90000002                      1.0      0.138152         1632.91    17.323031  \n",
       "90000003                      2.0      0.333904         3203.10    50.945281  \n",
       "90000004                      1.0      0.341578         5626.65     0.000000  "
      ]
     },
     "execution_count": 6,
     "metadata": {},
     "output_type": "execute_result"
    }
   ],
   "source": [
    "df.head()"
   ]
  },
  {
   "cell_type": "markdown",
   "metadata": {},
   "source": [
    "# Basic statistics"
   ]
  },
  {
   "cell_type": "code",
   "execution_count": 7,
   "metadata": {},
   "outputs": [
    {
     "data": {
      "text/plain": [
       "(1000000, 12)"
      ]
     },
     "execution_count": 7,
     "metadata": {},
     "output_type": "execute_result"
    }
   ],
   "source": [
    "df.shape"
   ]
  },
  {
   "cell_type": "code",
   "execution_count": 8,
   "metadata": {},
   "outputs": [
    {
     "name": "stdout",
     "output_type": "stream",
     "text": [
      "<class 'pandas.core.frame.DataFrame'>\n",
      "Int64Index: 1000000 entries, 90000000 to 90999999\n",
      "Data columns (total 12 columns):\n",
      "suspicious                 1000000 non-null int64\n",
      "turnover                   1000000 non-null float64\n",
      "transaction_count          1000000 non-null float64\n",
      "io_ratio                   1000000 non-null float64\n",
      "age                        1000000 non-null float64\n",
      "inactive_days_average      1000000 non-null float64\n",
      "inactive_days_max          1000000 non-null float64\n",
      "n_of_accounts              1000000 non-null int64\n",
      "distinct_counterparties    1000000 non-null float64\n",
      "channel_risk               1000000 non-null float64\n",
      "atm_withdrawal             1000000 non-null float64\n",
      "atm_deposit                1000000 non-null float64\n",
      "dtypes: float64(10), int64(2)\n",
      "memory usage: 99.2 MB\n"
     ]
    }
   ],
   "source": [
    "df.info()"
   ]
  },
  {
   "cell_type": "code",
   "execution_count": 9,
   "metadata": {},
   "outputs": [
    {
     "data": {
      "text/html": [
       "<div>\n",
       "<style scoped>\n",
       "    .dataframe tbody tr th:only-of-type {\n",
       "        vertical-align: middle;\n",
       "    }\n",
       "\n",
       "    .dataframe tbody tr th {\n",
       "        vertical-align: top;\n",
       "    }\n",
       "\n",
       "    .dataframe thead th {\n",
       "        text-align: right;\n",
       "    }\n",
       "</style>\n",
       "<table border=\"1\" class=\"dataframe\">\n",
       "  <thead>\n",
       "    <tr style=\"text-align: right;\">\n",
       "      <th></th>\n",
       "      <th>suspicious</th>\n",
       "      <th>turnover</th>\n",
       "      <th>transaction_count</th>\n",
       "      <th>io_ratio</th>\n",
       "      <th>age</th>\n",
       "      <th>inactive_days_average</th>\n",
       "      <th>inactive_days_max</th>\n",
       "      <th>n_of_accounts</th>\n",
       "      <th>distinct_counterparties</th>\n",
       "      <th>channel_risk</th>\n",
       "      <th>atm_withdrawal</th>\n",
       "      <th>atm_deposit</th>\n",
       "    </tr>\n",
       "  </thead>\n",
       "  <tbody>\n",
       "    <tr>\n",
       "      <th>count</th>\n",
       "      <td>1000000.000000</td>\n",
       "      <td>1.000000e+06</td>\n",
       "      <td>1000000.000000</td>\n",
       "      <td>1000000.000000</td>\n",
       "      <td>1000000.000000</td>\n",
       "      <td>1000000.000000</td>\n",
       "      <td>1000000.000000</td>\n",
       "      <td>1000000.000000</td>\n",
       "      <td>1000000.000000</td>\n",
       "      <td>1000000.000000</td>\n",
       "      <td>1.000000e+06</td>\n",
       "      <td>1.000000e+06</td>\n",
       "    </tr>\n",
       "    <tr>\n",
       "      <th>mean</th>\n",
       "      <td>0.009087</td>\n",
       "      <td>1.450642e+07</td>\n",
       "      <td>22.981850</td>\n",
       "      <td>0.320689</td>\n",
       "      <td>36.296229</td>\n",
       "      <td>46.324001</td>\n",
       "      <td>114.918432</td>\n",
       "      <td>1.998244</td>\n",
       "      <td>5.219878</td>\n",
       "      <td>0.250848</td>\n",
       "      <td>1.630698e+06</td>\n",
       "      <td>5.161569e+04</td>\n",
       "    </tr>\n",
       "    <tr>\n",
       "      <th>std</th>\n",
       "      <td>0.094892</td>\n",
       "      <td>2.690569e+08</td>\n",
       "      <td>45.088017</td>\n",
       "      <td>0.311637</td>\n",
       "      <td>24.382972</td>\n",
       "      <td>52.828032</td>\n",
       "      <td>78.862679</td>\n",
       "      <td>0.998493</td>\n",
       "      <td>13.226557</td>\n",
       "      <td>0.167269</td>\n",
       "      <td>1.087247e+08</td>\n",
       "      <td>1.430538e+06</td>\n",
       "    </tr>\n",
       "    <tr>\n",
       "      <th>min</th>\n",
       "      <td>0.000000</td>\n",
       "      <td>0.000000e+00</td>\n",
       "      <td>0.000000</td>\n",
       "      <td>0.000000</td>\n",
       "      <td>0.000000</td>\n",
       "      <td>0.120000</td>\n",
       "      <td>1.000000</td>\n",
       "      <td>1.000000</td>\n",
       "      <td>0.000000</td>\n",
       "      <td>0.000023</td>\n",
       "      <td>0.000000e+00</td>\n",
       "      <td>0.000000e+00</td>\n",
       "    </tr>\n",
       "    <tr>\n",
       "      <th>25%</th>\n",
       "      <td>0.000000</td>\n",
       "      <td>4.102706e+04</td>\n",
       "      <td>1.000000</td>\n",
       "      <td>0.000000</td>\n",
       "      <td>18.000000</td>\n",
       "      <td>6.780000</td>\n",
       "      <td>71.000000</td>\n",
       "      <td>1.000000</td>\n",
       "      <td>1.000000</td>\n",
       "      <td>0.123844</td>\n",
       "      <td>1.581900e+02</td>\n",
       "      <td>1.079470e+01</td>\n",
       "    </tr>\n",
       "    <tr>\n",
       "      <th>50%</th>\n",
       "      <td>0.000000</td>\n",
       "      <td>1.551433e+05</td>\n",
       "      <td>3.000000</td>\n",
       "      <td>0.294118</td>\n",
       "      <td>38.000000</td>\n",
       "      <td>29.600000</td>\n",
       "      <td>95.000000</td>\n",
       "      <td>2.000000</td>\n",
       "      <td>1.000000</td>\n",
       "      <td>0.217197</td>\n",
       "      <td>3.318705e+03</td>\n",
       "      <td>1.825819e+02</td>\n",
       "    </tr>\n",
       "    <tr>\n",
       "      <th>75%</th>\n",
       "      <td>0.000000</td>\n",
       "      <td>4.616345e+05</td>\n",
       "      <td>24.000000</td>\n",
       "      <td>0.477273</td>\n",
       "      <td>56.000000</td>\n",
       "      <td>65.710000</td>\n",
       "      <td>133.000000</td>\n",
       "      <td>3.000000</td>\n",
       "      <td>3.000000</td>\n",
       "      <td>0.342783</td>\n",
       "      <td>2.515866e+04</td>\n",
       "      <td>1.188573e+03</td>\n",
       "    </tr>\n",
       "    <tr>\n",
       "      <th>max</th>\n",
       "      <td>1.000000</td>\n",
       "      <td>7.968697e+10</td>\n",
       "      <td>1064.000000</td>\n",
       "      <td>1.000000</td>\n",
       "      <td>131.000000</td>\n",
       "      <td>1376.590000</td>\n",
       "      <td>1440.000000</td>\n",
       "      <td>10.000000</td>\n",
       "      <td>670.000000</td>\n",
       "      <td>0.997642</td>\n",
       "      <td>7.968697e+10</td>\n",
       "      <td>4.004989e+08</td>\n",
       "    </tr>\n",
       "  </tbody>\n",
       "</table>\n",
       "</div>"
      ],
      "text/plain": [
       "           suspicious      turnover  transaction_count        io_ratio  \\\n",
       "count  1000000.000000  1.000000e+06     1000000.000000  1000000.000000   \n",
       "mean         0.009087  1.450642e+07          22.981850        0.320689   \n",
       "std          0.094892  2.690569e+08          45.088017        0.311637   \n",
       "min          0.000000  0.000000e+00           0.000000        0.000000   \n",
       "25%          0.000000  4.102706e+04           1.000000        0.000000   \n",
       "50%          0.000000  1.551433e+05           3.000000        0.294118   \n",
       "75%          0.000000  4.616345e+05          24.000000        0.477273   \n",
       "max          1.000000  7.968697e+10        1064.000000        1.000000   \n",
       "\n",
       "                  age  inactive_days_average  inactive_days_max  \\\n",
       "count  1000000.000000         1000000.000000     1000000.000000   \n",
       "mean        36.296229              46.324001         114.918432   \n",
       "std         24.382972              52.828032          78.862679   \n",
       "min          0.000000               0.120000           1.000000   \n",
       "25%         18.000000               6.780000          71.000000   \n",
       "50%         38.000000              29.600000          95.000000   \n",
       "75%         56.000000              65.710000         133.000000   \n",
       "max        131.000000            1376.590000        1440.000000   \n",
       "\n",
       "        n_of_accounts  distinct_counterparties    channel_risk  \\\n",
       "count  1000000.000000           1000000.000000  1000000.000000   \n",
       "mean         1.998244                 5.219878        0.250848   \n",
       "std          0.998493                13.226557        0.167269   \n",
       "min          1.000000                 0.000000        0.000023   \n",
       "25%          1.000000                 1.000000        0.123844   \n",
       "50%          2.000000                 1.000000        0.217197   \n",
       "75%          3.000000                 3.000000        0.342783   \n",
       "max         10.000000               670.000000        0.997642   \n",
       "\n",
       "       atm_withdrawal   atm_deposit  \n",
       "count    1.000000e+06  1.000000e+06  \n",
       "mean     1.630698e+06  5.161569e+04  \n",
       "std      1.087247e+08  1.430538e+06  \n",
       "min      0.000000e+00  0.000000e+00  \n",
       "25%      1.581900e+02  1.079470e+01  \n",
       "50%      3.318705e+03  1.825819e+02  \n",
       "75%      2.515866e+04  1.188573e+03  \n",
       "max      7.968697e+10  4.004989e+08  "
      ]
     },
     "execution_count": 9,
     "metadata": {},
     "output_type": "execute_result"
    }
   ],
   "source": [
    "df.describe()"
   ]
  },
  {
   "cell_type": "code",
   "execution_count": 10,
   "metadata": {},
   "outputs": [
    {
     "data": {
      "text/plain": [
       "<matplotlib.axes._subplots.AxesSubplot at 0x10684fe80>"
      ]
     },
     "execution_count": 10,
     "metadata": {},
     "output_type": "execute_result"
    },
    {
     "data": {
      "image/png": "[encoded data removed]",
      "text/plain": [
       "<Figure size 432x288 with 1 Axes>"
      ]
     },
     "metadata": {},
     "output_type": "display_data"
    }
   ],
   "source": [
    "sns.boxplot(df['age'])"
   ]
  },
  {
   "cell_type": "markdown",
   "metadata": {},
   "source": [
    "# Create balanced dataset"
   ]
  },
  {
   "cell_type": "code",
   "execution_count": 50,
   "metadata": {},
   "outputs": [
    {
     "name": "stdout",
     "output_type": "stream",
     "text": [
      "(36348, 12) (36348, 12)\n"
     ]
    }
   ],
   "source": [
    "cases_susp = df[df['suspicious']==1]\n",
    "cases_susp = cases_susp.append(cases_susp.loc[np.random.choice(cases_susp.index, 3*cases_susp.shape[0], replace=True)])\n",
    "cases_norm = df[df['suspicious']==0].sample(n=1*cases_susp.shape[0])\n",
    "print(cases_susp.shape, cases_norm.shape)"
   ]
  },
  {
   "cell_type": "code",
   "execution_count": 51,
   "metadata": {},
   "outputs": [
    {
     "data": {
      "text/plain": [
       "(72696, 12)"
      ]
     },
     "execution_count": 51,
     "metadata": {},
     "output_type": "execute_result"
    }
   ],
   "source": [
    "df_bal = pd.concat([cases_norm, cases_susp])\n",
    "df_bal.shape"
   ]
  },
  {
   "cell_type": "markdown",
   "metadata": {},
   "source": [
    "# Model"
   ]
  },
  {
   "cell_type": "code",
   "execution_count": 52,
   "metadata": {},
   "outputs": [],
   "source": [
    "test_features = pd.read_csv('data/test.csv').set_index('customer')"
   ]
  },
  {
   "cell_type": "code",
   "execution_count": 53,
   "metadata": {},
   "outputs": [],
   "source": [
    "for var_ in del_columns:\n",
    "    test_features.drop(var_, axis=1, inplace=True)"
   ]
  },
  {
   "cell_type": "code",
   "execution_count": 54,
   "metadata": {},
   "outputs": [
    {
     "data": {
      "text/plain": [
       "(1000000, 11)"
      ]
     },
     "execution_count": 54,
     "metadata": {},
     "output_type": "execute_result"
    }
   ],
   "source": [
    "test_features.shape"
   ]
  },
  {
   "cell_type": "markdown",
   "metadata": {},
   "source": [
    "## Random Forest"
   ]
  },
  {
   "cell_type": "code",
   "execution_count": 55,
   "metadata": {},
   "outputs": [],
   "source": [
    "from sklearn.ensemble import RandomForestClassifier"
   ]
  },
  {
   "cell_type": "markdown",
   "metadata": {},
   "source": [
    "### Train"
   ]
  },
  {
   "cell_type": "code",
   "execution_count": 56,
   "metadata": {},
   "outputs": [],
   "source": [
    "sub = df_bal  #.sample(n=100)"
   ]
  },
  {
   "cell_type": "code",
   "execution_count": 57,
   "metadata": {},
   "outputs": [],
   "source": [
    "X = sub.drop('suspicious', axis=1)\n",
    "y = sub['suspicious']"
   ]
  },
  {
   "cell_type": "code",
   "execution_count": 58,
   "metadata": {},
   "outputs": [
    {
     "data": {
      "text/plain": [
       "(72696, 11)"
      ]
     },
     "execution_count": 58,
     "metadata": {},
     "output_type": "execute_result"
    }
   ],
   "source": [
    "X.shape"
   ]
  },
  {
   "cell_type": "markdown",
   "metadata": {},
   "source": [
    "#### Create pipeline"
   ]
  },
  {
   "cell_type": "code",
   "execution_count": 59,
   "metadata": {},
   "outputs": [],
   "source": [
    "from sklearn.preprocessing import StandardScaler"
   ]
  },
  {
   "cell_type": "code",
   "execution_count": 60,
   "metadata": {},
   "outputs": [],
   "source": [
    "clf = Pipeline([\n",
    "    ('scaler', StandardScaler()),\n",
    "    ('clf', RandomForestClassifier(n_estimators=1000, n_jobs=2, verbose=1))\n",
    "])"
   ]
  },
  {
   "cell_type": "markdown",
   "metadata": {},
   "source": [
    "#### Splitting"
   ]
  },
  {
   "cell_type": "code",
   "execution_count": 61,
   "metadata": {},
   "outputs": [],
   "source": [
    "skf = StratifiedKFold(n_splits=5)"
   ]
  },
  {
   "cell_type": "code",
   "execution_count": 62,
   "metadata": {},
   "outputs": [
    {
     "data": {
      "application/vnd.jupyter.widget-view+json": {
       "model_id": "32257102e9bd4310837348107ecd6bed",
       "version_major": 2,
       "version_minor": 0
      },
      "text/plain": [
       "A Jupyter Widget"
      ]
     },
     "metadata": {},
     "output_type": "display_data"
    },
    {
     "name": "stderr",
     "output_type": "stream",
     "text": [
      "[Parallel(n_jobs=2)]: Done  46 tasks      | elapsed:    2.3s\n",
      "[Parallel(n_jobs=2)]: Done 196 tasks      | elapsed:    9.5s\n",
      "[Parallel(n_jobs=2)]: Done 446 tasks      | elapsed:   21.7s\n",
      "[Parallel(n_jobs=2)]: Done 796 tasks      | elapsed:   38.7s\n",
      "[Parallel(n_jobs=2)]: Done 1000 out of 1000 | elapsed:   48.6s finished\n",
      "[Parallel(n_jobs=2)]: Done  46 tasks      | elapsed:    0.1s\n",
      "[Parallel(n_jobs=2)]: Done 196 tasks      | elapsed:    0.3s\n",
      "[Parallel(n_jobs=2)]: Done 446 tasks      | elapsed:    0.7s\n",
      "[Parallel(n_jobs=2)]: Done 796 tasks      | elapsed:    1.3s\n",
      "[Parallel(n_jobs=2)]: Done 1000 out of 1000 | elapsed:    1.7s finished\n"
     ]
    },
    {
     "name": "stdout",
     "output_type": "stream",
     "text": [
      "             precision    recall  f1-score   support\n",
      "\n",
      "          0       0.98      0.91      0.94      7270\n",
      "          1       0.92      0.98      0.95      7270\n",
      "\n",
      "avg / total       0.95      0.95      0.95     14540\n",
      "\n"
     ]
    },
    {
     "name": "stderr",
     "output_type": "stream",
     "text": [
      "[Parallel(n_jobs=2)]: Done  46 tasks      | elapsed:    2.3s\n",
      "[Parallel(n_jobs=2)]: Done 196 tasks      | elapsed:   10.0s\n",
      "[Parallel(n_jobs=2)]: Done 446 tasks      | elapsed:   22.2s\n",
      "[Parallel(n_jobs=2)]: Done 796 tasks      | elapsed:   39.4s\n",
      "[Parallel(n_jobs=2)]: Done 1000 out of 1000 | elapsed:   49.5s finished\n",
      "[Parallel(n_jobs=2)]: Done  46 tasks      | elapsed:    0.1s\n",
      "[Parallel(n_jobs=2)]: Done 196 tasks      | elapsed:    0.3s\n",
      "[Parallel(n_jobs=2)]: Done 446 tasks      | elapsed:    0.8s\n",
      "[Parallel(n_jobs=2)]: Done 796 tasks      | elapsed:    1.4s\n",
      "[Parallel(n_jobs=2)]: Done 1000 out of 1000 | elapsed:    1.8s finished\n"
     ]
    },
    {
     "name": "stdout",
     "output_type": "stream",
     "text": [
      "             precision    recall  f1-score   support\n",
      "\n",
      "          0       0.98      0.92      0.95      7270\n",
      "          1       0.93      0.99      0.95      7270\n",
      "\n",
      "avg / total       0.95      0.95      0.95     14540\n",
      "\n"
     ]
    },
    {
     "name": "stderr",
     "output_type": "stream",
     "text": [
      "[Parallel(n_jobs=2)]: Done  46 tasks      | elapsed:    2.3s\n",
      "[Parallel(n_jobs=2)]: Done 196 tasks      | elapsed:   10.1s\n",
      "[Parallel(n_jobs=2)]: Done 446 tasks      | elapsed:   23.1s\n",
      "[Parallel(n_jobs=2)]: Done 796 tasks      | elapsed:   40.2s\n",
      "[Parallel(n_jobs=2)]: Done 1000 out of 1000 | elapsed:   50.3s finished\n",
      "[Parallel(n_jobs=2)]: Done  46 tasks      | elapsed:    0.1s\n",
      "[Parallel(n_jobs=2)]: Done 196 tasks      | elapsed:    0.4s\n",
      "[Parallel(n_jobs=2)]: Done 446 tasks      | elapsed:    0.8s\n",
      "[Parallel(n_jobs=2)]: Done 796 tasks      | elapsed:    1.4s\n",
      "[Parallel(n_jobs=2)]: Done 1000 out of 1000 | elapsed:    1.8s finished\n"
     ]
    },
    {
     "name": "stdout",
     "output_type": "stream",
     "text": [
      "             precision    recall  f1-score   support\n",
      "\n",
      "          0       1.00      0.91      0.95      7270\n",
      "          1       0.92      1.00      0.96      7270\n",
      "\n",
      "avg / total       0.96      0.96      0.96     14540\n",
      "\n"
     ]
    },
    {
     "name": "stderr",
     "output_type": "stream",
     "text": [
      "[Parallel(n_jobs=2)]: Done  46 tasks      | elapsed:    2.4s\n",
      "[Parallel(n_jobs=2)]: Done 196 tasks      | elapsed:   10.4s\n",
      "[Parallel(n_jobs=2)]: Done 446 tasks      | elapsed:   23.7s\n",
      "[Parallel(n_jobs=2)]: Done 796 tasks      | elapsed:   43.6s\n",
      "[Parallel(n_jobs=2)]: Done 1000 out of 1000 | elapsed:   54.0s finished\n",
      "[Parallel(n_jobs=2)]: Done  46 tasks      | elapsed:    0.1s\n",
      "[Parallel(n_jobs=2)]: Done 196 tasks      | elapsed:    0.4s\n",
      "[Parallel(n_jobs=2)]: Done 446 tasks      | elapsed:    0.8s\n",
      "[Parallel(n_jobs=2)]: Done 796 tasks      | elapsed:    1.4s\n",
      "[Parallel(n_jobs=2)]: Done 1000 out of 1000 | elapsed:    1.8s finished\n"
     ]
    },
    {
     "name": "stdout",
     "output_type": "stream",
     "text": [
      "             precision    recall  f1-score   support\n",
      "\n",
      "          0       1.00      0.91      0.96      7269\n",
      "          1       0.92      1.00      0.96      7269\n",
      "\n",
      "avg / total       0.96      0.96      0.96     14538\n",
      "\n"
     ]
    },
    {
     "name": "stderr",
     "output_type": "stream",
     "text": [
      "[Parallel(n_jobs=2)]: Done  46 tasks      | elapsed:    2.3s\n",
      "[Parallel(n_jobs=2)]: Done 196 tasks      | elapsed:   10.2s\n",
      "[Parallel(n_jobs=2)]: Done 446 tasks      | elapsed:   22.5s\n",
      "[Parallel(n_jobs=2)]: Done 796 tasks      | elapsed:   39.8s\n",
      "[Parallel(n_jobs=2)]: Done 1000 out of 1000 | elapsed:   50.2s finished\n",
      "[Parallel(n_jobs=2)]: Done  46 tasks      | elapsed:    0.1s\n",
      "[Parallel(n_jobs=2)]: Done 196 tasks      | elapsed:    0.3s\n",
      "[Parallel(n_jobs=2)]: Done 446 tasks      | elapsed:    0.8s\n",
      "[Parallel(n_jobs=2)]: Done 796 tasks      | elapsed:    1.3s\n"
     ]
    },
    {
     "name": "stdout",
     "output_type": "stream",
     "text": [
      "             precision    recall  f1-score   support\n",
      "\n",
      "          0       1.00      0.91      0.95      7269\n",
      "          1       0.92      1.00      0.96      7269\n",
      "\n",
      "avg / total       0.96      0.96      0.96     14538\n",
      "\n",
      "\n",
      "CPU times: user 8min 34s, sys: 7.26 s, total: 8min 41s\n",
      "Wall time: 4min 25s\n"
     ]
    },
    {
     "name": "stderr",
     "output_type": "stream",
     "text": [
      "[Parallel(n_jobs=2)]: Done 1000 out of 1000 | elapsed:    1.7s finished\n"
     ]
    }
   ],
   "source": [
    "%%time\n",
    "for train_index, test_index in tqdm(skf.split(X, y), total=skf.get_n_splits(X, y)):\n",
    "    X_train, X_test = X.iloc[train_index], X.iloc[test_index]\n",
    "    y_train, y_test = y.iloc[train_index], y.iloc[test_index]\n",
    "    \n",
    "    clf.fit(X_train, y_train)\n",
    "    \n",
    "    y_pred = clf.predict(X_test)\n",
    "    report = classification_report(y_test, y_pred)\n",
    "    \n",
    "    print(report)"
   ]
  },
  {
   "cell_type": "raw",
   "metadata": {},
   "source": [
    "1-1\n",
    "precision    recall  f1-score   support\n",
    "\n",
    "          0       0.77      0.77      0.77      4544\n",
    "          1       0.77      0.76      0.77      4544\n",
    "\n",
    "avg / total       0.77      0.77      0.77      9088\n",
    "1-2\n",
    "\n",
    "          0       0.82      0.90      0.86      9087\n",
    "          1       0.75      0.59      0.66      4544\n",
    "\n",
    "avg / total       0.79      0.80      0.79     13631\n",
    "\n",
    "          0       0.81      0.89      0.85      9087\n",
    "          1       0.73      0.58      0.65      4543\n",
    "\n",
    "avg / total       0.78      0.79      0.78     13630\n",
    "1-3\n",
    "          0       0.85      0.94      0.89     13631\n",
    "          1       0.72      0.48      0.58      4544\n",
    "\n",
    "avg / total       0.81      0.82      0.81     18175\n",
    "\n",
    "          0       0.85      0.94      0.89     13630\n",
    "          1       0.72      0.49      0.58      4543\n",
    "\n",
    "avg / total       0.81      0.82      0.81     18173\n",
    "1-4\n",
    "          0       0.87      0.96      0.91     18174\n",
    "          1       0.72      0.43      0.54      4544\n",
    "\n",
    "avg / total       0.84      0.85      0.84     22718\n",
    "\n",
    "          0       0.87      0.96      0.91     18174\n",
    "          1       0.71      0.42      0.53      4543\n",
    "\n",
    "avg / total       0.84      0.85      0.83     22717"
   ]
  },
  {
   "cell_type": "raw",
   "metadata": {},
   "source": [
    "By sampling with replacement\n",
    "1-1 18K each\n",
    "\n",
    "          0       0.87      0.84      0.86      9087\n",
    "          1       0.84      0.88      0.86      9087\n",
    "\n",
    "avg / total       0.86      0.86      0.86     18174\n",
    "\n",
    "          0       1.00      0.78      0.88      9087\n",
    "          1       0.82      1.00      0.90      9087\n",
    "\n",
    "avg / total       0.91      0.89      0.89     18174\n",
    "\n",
    "27K each\n",
    "\n",
    "          0       0.92      0.86      0.89     13631\n",
    "          1       0.87      0.92      0.89     13631\n",
    "\n",
    "avg / total       0.89      0.89      0.89     27262\n",
    "\n",
    "          0       1.00      0.84      0.91     13630\n",
    "          1       0.86      1.00      0.92     13630\n",
    "\n",
    "avg / total       0.93      0.92      0.92     27260\n",
    "\n",
    "36K each\n",
    "          0       0.95      0.88      0.92     18174\n",
    "          1       0.89      0.95      0.92     18174\n",
    "\n",
    "avg / total       0.92      0.92      0.92     36348\n",
    "\n",
    "          0       1.00      0.86      0.93     18174\n",
    "          1       0.88      1.00      0.93     18174\n",
    "\n",
    "avg / total       0.94      0.93      0.93     36348\n",
    "\n",
    "90K each\n",
    "          0       1.00      0.95      0.97     45435\n",
    "          1       0.95      1.00      0.97     45435\n",
    "\n",
    "avg / total       0.97      0.97      0.97     90870\n",
    "\n",
    "          0       1.00      0.95      0.97     45435\n",
    "          1       0.95      1.00      0.97     45435\n",
    "\n",
    "avg / total       0.97      0.97      0.97     90870\n",
    "\n",
    "180K each\n",
    "\n",
    "          0       1.00      0.98      0.99     90870\n",
    "          1       0.98      1.00      0.99     90870\n",
    "\n",
    "avg / total       0.99      0.99      0.99    181740\n",
    "\n",
    "          0       1.00      0.98      0.99     90870\n",
    "          1       0.98      1.00      0.99     90870\n",
    "\n",
    "avg / total       0.99      0.99      0.99    181740\n",
    "\n",
    "18K-36K\n",
    "          0       0.91      0.93      0.92     18174\n",
    "          1       0.85      0.82      0.83      9087\n",
    "\n",
    "avg / total       0.89      0.89      0.89     27261\n",
    "\n",
    "          0       1.00      0.90      0.95     18174\n",
    "          1       0.83      1.00      0.91      9087\n",
    "\n",
    "avg / total       0.94      0.93      0.93     27261"
   ]
  },
  {
   "cell_type": "markdown",
   "metadata": {},
   "source": [
    "#### Final"
   ]
  },
  {
   "cell_type": "code",
   "execution_count": 24,
   "metadata": {},
   "outputs": [
    {
     "name": "stderr",
     "output_type": "stream",
     "text": [
      "[Parallel(n_jobs=2)]: Done  46 tasks      | elapsed:    1.1s\n",
      "[Parallel(n_jobs=2)]: Done 196 tasks      | elapsed:    3.8s\n",
      "[Parallel(n_jobs=2)]: Done 446 tasks      | elapsed:    8.5s\n",
      "[Parallel(n_jobs=2)]: Done 796 tasks      | elapsed:   14.1s\n"
     ]
    },
    {
     "name": "stdout",
     "output_type": "stream",
     "text": [
      "CPU times: user 33.4 s, sys: 707 ms, total: 34.1 s\n",
      "Wall time: 18.1 s\n"
     ]
    },
    {
     "name": "stderr",
     "output_type": "stream",
     "text": [
      "[Parallel(n_jobs=2)]: Done 1000 out of 1000 | elapsed:   17.4s finished\n"
     ]
    },
    {
     "data": {
      "text/plain": [
       "Pipeline(memory=None,\n",
       "     steps=[('scaler', StandardScaler(copy=True, with_mean=True, with_std=True)), ('clf', RandomForestClassifier(bootstrap=True, class_weight=None, criterion='gini',\n",
       "            max_depth=None, max_features='auto', max_leaf_nodes=None,\n",
       "            min_impurity_decrease=0.0, min_impurity_split=None,\n",
       "     ...n_jobs=2,\n",
       "            oob_score=False, random_state=None, verbose=1,\n",
       "            warm_start=False))])"
      ]
     },
     "execution_count": 24,
     "metadata": {},
     "output_type": "execute_result"
    }
   ],
   "source": [
    "%%time\n",
    "clf.fit(X, y)"
   ]
  },
  {
   "cell_type": "markdown",
   "metadata": {},
   "source": [
    "### Test"
   ]
  },
  {
   "cell_type": "code",
   "execution_count": null,
   "metadata": {},
   "outputs": [],
   "source": [
    "sub_test = test_features  # [['nationality', 'atm_withdrawal']]\n",
    "sub_test.shape"
   ]
  },
  {
   "cell_type": "code",
   "execution_count": null,
   "metadata": {},
   "outputs": [],
   "source": [
    "%%time\n",
    "predictions = clf.predict_proba(sub_test)"
   ]
  },
  {
   "cell_type": "code",
   "execution_count": null,
   "metadata": {},
   "outputs": [],
   "source": [
    "# sort by `suspicious` probability\n",
    "df_pred = pd.DataFrame(\n",
    "    predictions,\n",
    "    columns=['normal_prob', 'suspicious_prob'],\n",
    "    index=sub_test.index\n",
    ").sort_values(by='suspicious_prob', ascending=False)\n",
    "df_pred.head()"
   ]
  },
  {
   "cell_type": "code",
   "execution_count": null,
   "metadata": {},
   "outputs": [],
   "source": [
    "N = 1000\n",
    "idx = df_pred['suspicious_prob'].head(N).index\n",
    "fraud_rows = test_features.loc[idx]"
   ]
  },
  {
   "cell_type": "code",
   "execution_count": null,
   "metadata": {},
   "outputs": [],
   "source": [
    "(pd.Series(fraud_rows.index)\n",
    " .to_frame()\n",
    " .to_csv('fraudulent_customers.txt', index=False))"
   ]
  },
  {
   "cell_type": "code",
   "execution_count": null,
   "metadata": {},
   "outputs": [],
   "source": [
    "sns.distplot(df_pred['suspicious_prob'], kde=False)\n",
    "plt.ylabel('Count')"
   ]
  }
 ],
 "metadata": {
  "kernelspec": {
   "display_name": "Python 3",
   "language": "python",
   "name": "python3"
  },
  "language_info": {
   "codemirror_mode": {
    "name": "ipython",
    "version": 3
   },
   "file_extension": ".py",
   "mimetype": "text/x-python",
   "name": "python",
   "nbconvert_exporter": "python",
   "pygments_lexer": "ipython3",
   "version": "3.6.3"
  },
  "toc-autonumbering": true,
  "varInspector": {
   "cols": {
    "lenName": 16,
    "lenType": 16,
    "lenVar": 40
   },
   "kernels_config": {
    "python": {
     "delete_cmd_postfix": "",
     "delete_cmd_prefix": "del ",
     "library": "var_list.py",
     "varRefreshCmd": "print(var_dic_list())"
    },
    "r": {
     "delete_cmd_postfix": ") ",
     "delete_cmd_prefix": "rm(",
     "library": "var_list.r",
     "varRefreshCmd": "cat(var_dic_list()) "
    }
   },
   "types_to_exclude": [
    "module",
    "function",
    "builtin_function_or_method",
    "instance",
    "_Feature"
   ],
   "window_display": false
  }
 },
 "nbformat": 4,
 "nbformat_minor": 2
}
