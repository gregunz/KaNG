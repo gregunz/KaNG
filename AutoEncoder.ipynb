{
 "cells": [
  {
   "cell_type": "code",
   "execution_count": 1,
   "metadata": {},
   "outputs": [
    {
     "name": "stderr",
     "output_type": "stream",
     "text": [
      "Using TensorFlow backend.\n"
     ]
    }
   ],
   "source": [
    "import pandas as pd\n",
    "import numpy as np\n",
    "from scipy import stats\n",
    "import tensorflow as tf\n",
    "import matplotlib.pyplot as plt\n",
    "import seaborn as sns\n",
    "import pickle\n",
    "\n",
    "from sklearn.model_selection import train_test_split\n",
    "from sklearn.metrics import confusion_matrix, precision_recall_curve\n",
    "from sklearn.metrics import recall_score, classification_report, auc, roc_curve\n",
    "from sklearn.metrics import precision_recall_fscore_support, f1_score\n",
    "from sklearn.preprocessing import StandardScaler\n",
    "from pylab import rcParams\n",
    "from keras.models import Model, load_model\n",
    "from keras.layers import Input, Dense\n",
    "from keras.callbacks import ModelCheckpoint, TensorBoard\n",
    "from keras import regularizers\n",
    "\n",
    "#set random seed and percentage of test data\n",
    "RANDOM_SEED = 314 #used to help randomly select the data points\n",
    "TEST_PCT = 0.2 # 20% of the data\n",
    "\n",
    "#set up graphic style in this case I am using the color scheme from xkcd.com\n",
    "rcParams['figure.figsize'] = 14, 8.7 # Golden Mean\n",
    "LABELS = [\"Normal\",\"Fraud\"]"
   ]
  },
  {
   "cell_type": "code",
   "execution_count": 2,
   "metadata": {},
   "outputs": [],
   "source": [
    "def normalize(ar):\n",
    "    ar -= ar.mean()\n",
    "    ar /= ar.std()\n",
    "    return ar\n",
    "        \n",
    "def raw_to_data(df):\n",
    "    df_copy = df.copy()\n",
    "    #df_copy = pd.get_dummies(df_copy, columns=['category', 'nationality', 'is_pep'])\n",
    "    for col in ['category', 'nationality', 'is_pep']:\n",
    "        df_copy.drop(col, axis=1, inplace=True)\n",
    "    for col in ['turnover', 'transaction_count', 'io_ratio', 'age', 'inactive_days_average', 'inactive_days_max', 'n_of_accounts', 'distinct_counterparties', 'channel_risk', 'atm_withdrawal', 'atm_deposit']:\n",
    "        df_copy[col] = StandardScaler().fit_transform(df_copy[col].values.reshape(-1, 1))\n",
    "    return df_copy"
   ]
  },
  {
   "cell_type": "code",
   "execution_count": 3,
   "metadata": {},
   "outputs": [
    {
     "data": {
      "text/html": [
       "<div>\n",
       "<style scoped>\n",
       "    .dataframe tbody tr th:only-of-type {\n",
       "        vertical-align: middle;\n",
       "    }\n",
       "\n",
       "    .dataframe tbody tr th {\n",
       "        vertical-align: top;\n",
       "    }\n",
       "\n",
       "    .dataframe thead th {\n",
       "        text-align: right;\n",
       "    }\n",
       "</style>\n",
       "<table border=\"1\" class=\"dataframe\">\n",
       "  <thead>\n",
       "    <tr style=\"text-align: right;\">\n",
       "      <th></th>\n",
       "      <th>category</th>\n",
       "      <th>turnover</th>\n",
       "      <th>transaction_count</th>\n",
       "      <th>io_ratio</th>\n",
       "      <th>age</th>\n",
       "      <th>nationality</th>\n",
       "      <th>is_pep</th>\n",
       "      <th>inactive_days_average</th>\n",
       "      <th>inactive_days_max</th>\n",
       "      <th>n_of_accounts</th>\n",
       "      <th>distinct_counterparties</th>\n",
       "      <th>channel_risk</th>\n",
       "      <th>atm_withdrawal</th>\n",
       "      <th>atm_deposit</th>\n",
       "    </tr>\n",
       "    <tr>\n",
       "      <th>customer</th>\n",
       "      <th></th>\n",
       "      <th></th>\n",
       "      <th></th>\n",
       "      <th></th>\n",
       "      <th></th>\n",
       "      <th></th>\n",
       "      <th></th>\n",
       "      <th></th>\n",
       "      <th></th>\n",
       "      <th></th>\n",
       "      <th></th>\n",
       "      <th></th>\n",
       "      <th></th>\n",
       "      <th></th>\n",
       "    </tr>\n",
       "  </thead>\n",
       "  <tbody>\n",
       "    <tr>\n",
       "      <th>91000000</th>\n",
       "      <td>0</td>\n",
       "      <td>1235859.85</td>\n",
       "      <td>1.0</td>\n",
       "      <td>0.00</td>\n",
       "      <td>64.0</td>\n",
       "      <td>33</td>\n",
       "      <td>0</td>\n",
       "      <td>106.42</td>\n",
       "      <td>107.0</td>\n",
       "      <td>2</td>\n",
       "      <td>1.0</td>\n",
       "      <td>0.046108</td>\n",
       "      <td>1235859.85</td>\n",
       "      <td>12549.438865</td>\n",
       "    </tr>\n",
       "    <tr>\n",
       "      <th>91000001</th>\n",
       "      <td>1</td>\n",
       "      <td>53087.97</td>\n",
       "      <td>3.0</td>\n",
       "      <td>0.00</td>\n",
       "      <td>0.0</td>\n",
       "      <td>172</td>\n",
       "      <td>0</td>\n",
       "      <td>69.28</td>\n",
       "      <td>139.0</td>\n",
       "      <td>1</td>\n",
       "      <td>1.0</td>\n",
       "      <td>0.414826</td>\n",
       "      <td>53087.97</td>\n",
       "      <td>116.106050</td>\n",
       "    </tr>\n",
       "    <tr>\n",
       "      <th>91000002</th>\n",
       "      <td>0</td>\n",
       "      <td>22003.25</td>\n",
       "      <td>4.0</td>\n",
       "      <td>0.25</td>\n",
       "      <td>41.0</td>\n",
       "      <td>33</td>\n",
       "      <td>0</td>\n",
       "      <td>30.94</td>\n",
       "      <td>62.0</td>\n",
       "      <td>2</td>\n",
       "      <td>1.0</td>\n",
       "      <td>0.030105</td>\n",
       "      <td>1066.98</td>\n",
       "      <td>106.434228</td>\n",
       "    </tr>\n",
       "    <tr>\n",
       "      <th>91000003</th>\n",
       "      <td>0</td>\n",
       "      <td>72947.07</td>\n",
       "      <td>4.0</td>\n",
       "      <td>0.50</td>\n",
       "      <td>16.0</td>\n",
       "      <td>94</td>\n",
       "      <td>0</td>\n",
       "      <td>24.19</td>\n",
       "      <td>97.0</td>\n",
       "      <td>2</td>\n",
       "      <td>1.0</td>\n",
       "      <td>0.025249</td>\n",
       "      <td>16701.34</td>\n",
       "      <td>106.455505</td>\n",
       "    </tr>\n",
       "    <tr>\n",
       "      <th>91000004</th>\n",
       "      <td>0</td>\n",
       "      <td>9964.06</td>\n",
       "      <td>1.0</td>\n",
       "      <td>0.00</td>\n",
       "      <td>46.0</td>\n",
       "      <td>50</td>\n",
       "      <td>0</td>\n",
       "      <td>47.84</td>\n",
       "      <td>48.0</td>\n",
       "      <td>2</td>\n",
       "      <td>1.0</td>\n",
       "      <td>0.083395</td>\n",
       "      <td>9964.06</td>\n",
       "      <td>118.541699</td>\n",
       "    </tr>\n",
       "  </tbody>\n",
       "</table>\n",
       "</div>"
      ],
      "text/plain": [
       "          category    turnover  transaction_count  io_ratio   age  \\\n",
       "customer                                                            \n",
       "91000000         0  1235859.85                1.0      0.00  64.0   \n",
       "91000001         1    53087.97                3.0      0.00   0.0   \n",
       "91000002         0    22003.25                4.0      0.25  41.0   \n",
       "91000003         0    72947.07                4.0      0.50  16.0   \n",
       "91000004         0     9964.06                1.0      0.00  46.0   \n",
       "\n",
       "          nationality  is_pep  inactive_days_average  inactive_days_max  \\\n",
       "customer                                                                  \n",
       "91000000           33       0                 106.42              107.0   \n",
       "91000001          172       0                  69.28              139.0   \n",
       "91000002           33       0                  30.94               62.0   \n",
       "91000003           94       0                  24.19               97.0   \n",
       "91000004           50       0                  47.84               48.0   \n",
       "\n",
       "          n_of_accounts  distinct_counterparties  channel_risk  \\\n",
       "customer                                                         \n",
       "91000000              2                      1.0      0.046108   \n",
       "91000001              1                      1.0      0.414826   \n",
       "91000002              2                      1.0      0.030105   \n",
       "91000003              2                      1.0      0.025249   \n",
       "91000004              2                      1.0      0.083395   \n",
       "\n",
       "          atm_withdrawal   atm_deposit  \n",
       "customer                                \n",
       "91000000      1235859.85  12549.438865  \n",
       "91000001        53087.97    116.106050  \n",
       "91000002         1066.98    106.434228  \n",
       "91000003        16701.34    106.455505  \n",
       "91000004         9964.06    118.541699  "
      ]
     },
     "execution_count": 3,
     "metadata": {},
     "output_type": "execute_result"
    }
   ],
   "source": [
    "test_x = pd.read_csv(\"/floyd/input/data/test.csv\", index_col=0)\n",
    "\n",
    "test_x.head()"
   ]
  },
  {
   "cell_type": "code",
   "execution_count": 4,
   "metadata": {},
   "outputs": [
    {
     "data": {
      "text/html": [
       "<div>\n",
       "<style scoped>\n",
       "    .dataframe tbody tr th:only-of-type {\n",
       "        vertical-align: middle;\n",
       "    }\n",
       "\n",
       "    .dataframe tbody tr th {\n",
       "        vertical-align: top;\n",
       "    }\n",
       "\n",
       "    .dataframe thead th {\n",
       "        text-align: right;\n",
       "    }\n",
       "</style>\n",
       "<table border=\"1\" class=\"dataframe\">\n",
       "  <thead>\n",
       "    <tr style=\"text-align: right;\">\n",
       "      <th></th>\n",
       "      <th>category</th>\n",
       "      <th>suspicious</th>\n",
       "      <th>turnover</th>\n",
       "      <th>transaction_count</th>\n",
       "      <th>io_ratio</th>\n",
       "      <th>age</th>\n",
       "      <th>nationality</th>\n",
       "      <th>is_pep</th>\n",
       "      <th>inactive_days_average</th>\n",
       "      <th>inactive_days_max</th>\n",
       "      <th>n_of_accounts</th>\n",
       "      <th>distinct_counterparties</th>\n",
       "      <th>channel_risk</th>\n",
       "      <th>atm_withdrawal</th>\n",
       "      <th>atm_deposit</th>\n",
       "    </tr>\n",
       "    <tr>\n",
       "      <th>customer</th>\n",
       "      <th></th>\n",
       "      <th></th>\n",
       "      <th></th>\n",
       "      <th></th>\n",
       "      <th></th>\n",
       "      <th></th>\n",
       "      <th></th>\n",
       "      <th></th>\n",
       "      <th></th>\n",
       "      <th></th>\n",
       "      <th></th>\n",
       "      <th></th>\n",
       "      <th></th>\n",
       "      <th></th>\n",
       "      <th></th>\n",
       "    </tr>\n",
       "  </thead>\n",
       "  <tbody>\n",
       "    <tr>\n",
       "      <th>90000000</th>\n",
       "      <td>0</td>\n",
       "      <td>0</td>\n",
       "      <td>734958.58</td>\n",
       "      <td>7.0</td>\n",
       "      <td>0.142857</td>\n",
       "      <td>79.0</td>\n",
       "      <td>134</td>\n",
       "      <td>0</td>\n",
       "      <td>24.63</td>\n",
       "      <td>124.0</td>\n",
       "      <td>3</td>\n",
       "      <td>6.0</td>\n",
       "      <td>0.128703</td>\n",
       "      <td>215959.85</td>\n",
       "      <td>832.364854</td>\n",
       "    </tr>\n",
       "    <tr>\n",
       "      <th>90000001</th>\n",
       "      <td>1</td>\n",
       "      <td>0</td>\n",
       "      <td>1009400.35</td>\n",
       "      <td>2.0</td>\n",
       "      <td>0.500000</td>\n",
       "      <td>0.0</td>\n",
       "      <td>33</td>\n",
       "      <td>0</td>\n",
       "      <td>78.49</td>\n",
       "      <td>79.0</td>\n",
       "      <td>3</td>\n",
       "      <td>1.0</td>\n",
       "      <td>0.635584</td>\n",
       "      <td>53.97</td>\n",
       "      <td>34.752298</td>\n",
       "    </tr>\n",
       "    <tr>\n",
       "      <th>90000002</th>\n",
       "      <td>0</td>\n",
       "      <td>0</td>\n",
       "      <td>11051.68</td>\n",
       "      <td>3.0</td>\n",
       "      <td>0.666667</td>\n",
       "      <td>77.0</td>\n",
       "      <td>191</td>\n",
       "      <td>0</td>\n",
       "      <td>35.74</td>\n",
       "      <td>72.0</td>\n",
       "      <td>2</td>\n",
       "      <td>1.0</td>\n",
       "      <td>0.138152</td>\n",
       "      <td>1632.91</td>\n",
       "      <td>17.323031</td>\n",
       "    </tr>\n",
       "    <tr>\n",
       "      <th>90000003</th>\n",
       "      <td>0</td>\n",
       "      <td>0</td>\n",
       "      <td>31193.29</td>\n",
       "      <td>81.0</td>\n",
       "      <td>0.308642</td>\n",
       "      <td>77.0</td>\n",
       "      <td>50</td>\n",
       "      <td>0</td>\n",
       "      <td>2.05</td>\n",
       "      <td>95.0</td>\n",
       "      <td>2</td>\n",
       "      <td>2.0</td>\n",
       "      <td>0.333904</td>\n",
       "      <td>3203.10</td>\n",
       "      <td>50.945281</td>\n",
       "    </tr>\n",
       "    <tr>\n",
       "      <th>90000004</th>\n",
       "      <td>0</td>\n",
       "      <td>0</td>\n",
       "      <td>205489.77</td>\n",
       "      <td>1.0</td>\n",
       "      <td>1.000000</td>\n",
       "      <td>39.0</td>\n",
       "      <td>172</td>\n",
       "      <td>0</td>\n",
       "      <td>147.53</td>\n",
       "      <td>148.0</td>\n",
       "      <td>4</td>\n",
       "      <td>1.0</td>\n",
       "      <td>0.341578</td>\n",
       "      <td>5626.65</td>\n",
       "      <td>0.000000</td>\n",
       "    </tr>\n",
       "  </tbody>\n",
       "</table>\n",
       "</div>"
      ],
      "text/plain": [
       "          category  suspicious    turnover  transaction_count  io_ratio   age  \\\n",
       "customer                                                                        \n",
       "90000000         0           0   734958.58                7.0  0.142857  79.0   \n",
       "90000001         1           0  1009400.35                2.0  0.500000   0.0   \n",
       "90000002         0           0    11051.68                3.0  0.666667  77.0   \n",
       "90000003         0           0    31193.29               81.0  0.308642  77.0   \n",
       "90000004         0           0   205489.77                1.0  1.000000  39.0   \n",
       "\n",
       "          nationality  is_pep  inactive_days_average  inactive_days_max  \\\n",
       "customer                                                                  \n",
       "90000000          134       0                  24.63              124.0   \n",
       "90000001           33       0                  78.49               79.0   \n",
       "90000002          191       0                  35.74               72.0   \n",
       "90000003           50       0                   2.05               95.0   \n",
       "90000004          172       0                 147.53              148.0   \n",
       "\n",
       "          n_of_accounts  distinct_counterparties  channel_risk  \\\n",
       "customer                                                         \n",
       "90000000              3                      6.0      0.128703   \n",
       "90000001              3                      1.0      0.635584   \n",
       "90000002              2                      1.0      0.138152   \n",
       "90000003              2                      2.0      0.333904   \n",
       "90000004              4                      1.0      0.341578   \n",
       "\n",
       "          atm_withdrawal  atm_deposit  \n",
       "customer                               \n",
       "90000000       215959.85   832.364854  \n",
       "90000001           53.97    34.752298  \n",
       "90000002         1632.91    17.323031  \n",
       "90000003         3203.10    50.945281  \n",
       "90000004         5626.65     0.000000  "
      ]
     },
     "execution_count": 4,
     "metadata": {},
     "output_type": "execute_result"
    }
   ],
   "source": [
    "raw_train = pd.read_csv(\"/floyd/input/data/train.csv\", index_col=0) #unzip and read in data downloaded to the local directory\n",
    "raw_train.head(n=5) #just to check you imported the dataset properly"
   ]
  },
  {
   "cell_type": "code",
   "execution_count": 5,
   "metadata": {},
   "outputs": [
    {
     "data": {
      "text/plain": [
       "(1000000, 15)"
      ]
     },
     "execution_count": 5,
     "metadata": {},
     "output_type": "execute_result"
    }
   ],
   "source": [
    "raw_train.shape"
   ]
  },
  {
   "cell_type": "code",
   "execution_count": 6,
   "metadata": {},
   "outputs": [
    {
     "data": {
      "text/plain": [
       "False"
      ]
     },
     "execution_count": 6,
     "metadata": {},
     "output_type": "execute_result"
    }
   ],
   "source": [
    "raw_train.isnull().values.any() #check to see if any values are null, which there are not\n"
   ]
  },
  {
   "cell_type": "code",
   "execution_count": 7,
   "metadata": {},
   "outputs": [
    {
     "data": {
      "text/plain": [
       "0    990913\n",
       "1      9087\n",
       "Name: suspicious, dtype: int64"
      ]
     },
     "execution_count": 7,
     "metadata": {},
     "output_type": "execute_result"
    }
   ],
   "source": [
    "pd.value_counts(raw_train['suspicious'], sort = True)"
   ]
  },
  {
   "cell_type": "code",
   "execution_count": 8,
   "metadata": {},
   "outputs": [
    {
     "data": {
      "image/png": "[encoded data removed]",
      "text/plain": [
       "<Figure size 432x288 with 1 Axes>"
      ]
     },
     "metadata": {},
     "output_type": "display_data"
    }
   ],
   "source": [
    "count_classes = pd.value_counts(raw_train['suspicious'], sort = True)\n",
    "count_classes.plot(kind = 'bar', rot=0)\n",
    "plt.xticks(range(2), LABELS)\n",
    "plt.title(\"Frequency by observation number\")\n",
    "plt.xlabel(\"Class\")\n",
    "plt.ylabel(\"Number of Observations\");"
   ]
  },
  {
   "cell_type": "code",
   "execution_count": 9,
   "metadata": {},
   "outputs": [],
   "source": [
    "normal_df = raw_train[raw_train.suspicious == 0] #save normal_df observations into a separate df\n",
    "fraud_df = raw_train[raw_train.suspicious == 1] #do the same for frauds"
   ]
  },
  {
   "cell_type": "code",
   "execution_count": 10,
   "metadata": {},
   "outputs": [
    {
     "data": {
      "text/plain": [
       "count    9.909130e+05\n",
       "mean     1.446246e+07\n",
       "std      2.675262e+08\n",
       "min      0.000000e+00\n",
       "25%      4.050807e+04\n",
       "50%      1.533517e+05\n",
       "75%      4.548039e+05\n",
       "max      7.968697e+10\n",
       "Name: turnover, dtype: float64"
      ]
     },
     "execution_count": 10,
     "metadata": {},
     "output_type": "execute_result"
    }
   ],
   "source": [
    "normal_df.turnover.describe()\n"
   ]
  },
  {
   "cell_type": "code",
   "execution_count": 11,
   "metadata": {},
   "outputs": [
    {
     "data": {
      "text/plain": [
       "count    9.087000e+03\n",
       "mean     1.929921e+07\n",
       "std      4.024280e+08\n",
       "min      1.500000e-01\n",
       "25%      2.123016e+05\n",
       "50%      5.510467e+05\n",
       "75%      1.416317e+06\n",
       "max      3.313022e+10\n",
       "Name: turnover, dtype: float64"
      ]
     },
     "execution_count": 11,
     "metadata": {},
     "output_type": "execute_result"
    }
   ],
   "source": [
    "fraud_df.turnover.describe()\n"
   ]
  },
  {
   "cell_type": "code",
   "execution_count": 12,
   "metadata": {},
   "outputs": [
    {
     "name": "stderr",
     "output_type": "stream",
     "text": [
      "/usr/local/lib/python3.6/site-packages/sklearn/utils/validation.py:475: DataConversionWarning: Data with input dtype int64 was converted to float64 by StandardScaler.\n",
      "  warnings.warn(msg, DataConversionWarning)\n"
     ]
    },
    {
     "data": {
      "text/html": [
       "<div>\n",
       "<style scoped>\n",
       "    .dataframe tbody tr th:only-of-type {\n",
       "        vertical-align: middle;\n",
       "    }\n",
       "\n",
       "    .dataframe tbody tr th {\n",
       "        vertical-align: top;\n",
       "    }\n",
       "\n",
       "    .dataframe thead th {\n",
       "        text-align: right;\n",
       "    }\n",
       "</style>\n",
       "<table border=\"1\" class=\"dataframe\">\n",
       "  <thead>\n",
       "    <tr style=\"text-align: right;\">\n",
       "      <th></th>\n",
       "      <th>suspicious</th>\n",
       "      <th>turnover</th>\n",
       "      <th>transaction_count</th>\n",
       "      <th>io_ratio</th>\n",
       "      <th>age</th>\n",
       "      <th>inactive_days_average</th>\n",
       "      <th>inactive_days_max</th>\n",
       "      <th>n_of_accounts</th>\n",
       "      <th>distinct_counterparties</th>\n",
       "      <th>channel_risk</th>\n",
       "      <th>atm_withdrawal</th>\n",
       "      <th>atm_deposit</th>\n",
       "    </tr>\n",
       "    <tr>\n",
       "      <th>customer</th>\n",
       "      <th></th>\n",
       "      <th></th>\n",
       "      <th></th>\n",
       "      <th></th>\n",
       "      <th></th>\n",
       "      <th></th>\n",
       "      <th></th>\n",
       "      <th></th>\n",
       "      <th></th>\n",
       "      <th></th>\n",
       "      <th></th>\n",
       "      <th></th>\n",
       "    </tr>\n",
       "  </thead>\n",
       "  <tbody>\n",
       "    <tr>\n",
       "      <th>90000000</th>\n",
       "      <td>0</td>\n",
       "      <td>-0.051184</td>\n",
       "      <td>-0.354459</td>\n",
       "      <td>-0.570636</td>\n",
       "      <td>1.751378</td>\n",
       "      <td>-0.410653</td>\n",
       "      <td>0.115157</td>\n",
       "      <td>1.003269</td>\n",
       "      <td>0.058982</td>\n",
       "      <td>-0.730227</td>\n",
       "      <td>-0.013012</td>\n",
       "      <td>-0.035499</td>\n",
       "    </tr>\n",
       "    <tr>\n",
       "      <th>90000001</th>\n",
       "      <td>0</td>\n",
       "      <td>-0.050164</td>\n",
       "      <td>-0.465353</td>\n",
       "      <td>0.575386</td>\n",
       "      <td>-1.488590</td>\n",
       "      <td>0.608882</td>\n",
       "      <td>-0.455456</td>\n",
       "      <td>1.003269</td>\n",
       "      <td>-0.319046</td>\n",
       "      <td>2.300112</td>\n",
       "      <td>-0.014998</td>\n",
       "      <td>-0.036057</td>\n",
       "    </tr>\n",
       "    <tr>\n",
       "      <th>90000002</th>\n",
       "      <td>0</td>\n",
       "      <td>-0.053875</td>\n",
       "      <td>-0.443175</td>\n",
       "      <td>1.110196</td>\n",
       "      <td>1.669353</td>\n",
       "      <td>-0.200348</td>\n",
       "      <td>-0.544218</td>\n",
       "      <td>0.001759</td>\n",
       "      <td>-0.319046</td>\n",
       "      <td>-0.673743</td>\n",
       "      <td>-0.014983</td>\n",
       "      <td>-0.036069</td>\n",
       "    </tr>\n",
       "    <tr>\n",
       "      <th>90000003</th>\n",
       "      <td>0</td>\n",
       "      <td>-0.053800</td>\n",
       "      <td>1.286776</td>\n",
       "      <td>-0.038656</td>\n",
       "      <td>1.669353</td>\n",
       "      <td>-0.838078</td>\n",
       "      <td>-0.252571</td>\n",
       "      <td>0.001759</td>\n",
       "      <td>-0.243441</td>\n",
       "      <td>0.496544</td>\n",
       "      <td>-0.014969</td>\n",
       "      <td>-0.036046</td>\n",
       "    </tr>\n",
       "    <tr>\n",
       "      <th>90000004</th>\n",
       "      <td>0</td>\n",
       "      <td>-0.053152</td>\n",
       "      <td>-0.487532</td>\n",
       "      <td>2.179817</td>\n",
       "      <td>0.110888</td>\n",
       "      <td>1.915764</td>\n",
       "      <td>0.419483</td>\n",
       "      <td>2.004779</td>\n",
       "      <td>-0.319046</td>\n",
       "      <td>0.542422</td>\n",
       "      <td>-0.014947</td>\n",
       "      <td>-0.036081</td>\n",
       "    </tr>\n",
       "  </tbody>\n",
       "</table>\n",
       "</div>"
      ],
      "text/plain": [
       "          suspicious  turnover  transaction_count  io_ratio       age  \\\n",
       "customer                                                                \n",
       "90000000           0 -0.051184          -0.354459 -0.570636  1.751378   \n",
       "90000001           0 -0.050164          -0.465353  0.575386 -1.488590   \n",
       "90000002           0 -0.053875          -0.443175  1.110196  1.669353   \n",
       "90000003           0 -0.053800           1.286776 -0.038656  1.669353   \n",
       "90000004           0 -0.053152          -0.487532  2.179817  0.110888   \n",
       "\n",
       "          inactive_days_average  inactive_days_max  n_of_accounts  \\\n",
       "customer                                                            \n",
       "90000000              -0.410653           0.115157       1.003269   \n",
       "90000001               0.608882          -0.455456       1.003269   \n",
       "90000002              -0.200348          -0.544218       0.001759   \n",
       "90000003              -0.838078          -0.252571       0.001759   \n",
       "90000004               1.915764           0.419483       2.004779   \n",
       "\n",
       "          distinct_counterparties  channel_risk  atm_withdrawal  atm_deposit  \n",
       "customer                                                                      \n",
       "90000000                 0.058982     -0.730227       -0.013012    -0.035499  \n",
       "90000001                -0.319046      2.300112       -0.014998    -0.036057  \n",
       "90000002                -0.319046     -0.673743       -0.014983    -0.036069  \n",
       "90000003                -0.243441      0.496544       -0.014969    -0.036046  \n",
       "90000004                -0.319046      0.542422       -0.014947    -0.036081  "
      ]
     },
     "execution_count": 12,
     "metadata": {},
     "output_type": "execute_result"
    }
   ],
   "source": [
    "X_whole = raw_to_data(raw_train)\n",
    "X_whole.head()"
   ]
  },
  {
   "cell_type": "code",
   "execution_count": 13,
   "metadata": {},
   "outputs": [
    {
     "data": {
      "text/plain": [
       "(1000000, 12)"
      ]
     },
     "execution_count": 13,
     "metadata": {},
     "output_type": "execute_result"
    }
   ],
   "source": [
    "X_whole.shape"
   ]
  },
  {
   "cell_type": "code",
   "execution_count": 14,
   "metadata": {},
   "outputs": [],
   "source": [
    "X_train, X_val = train_test_split(X_whole, test_size=TEST_PCT, random_state=RANDOM_SEED)\n",
    "validation_customer_ids = pd.DataFrame(X_val.index.values)\n",
    "\n",
    "X_train = X_train[X_train.suspicious == 0] #where normal transactions\n",
    "X_train = X_train.drop(['suspicious'], axis=1) #drop the class column\n",
    "\n",
    "\n",
    "y_val = X_val['suspicious'] #save the class column for the test set\n",
    "X_val = X_val.drop(['suspicious'], axis=1) #drop the class column\n",
    "\n",
    "X_train = X_train.values #transform to ndarray\n",
    "X_val = X_val.values"
   ]
  },
  {
   "cell_type": "code",
   "execution_count": 15,
   "metadata": {},
   "outputs": [
    {
     "data": {
      "text/plain": [
       "((792750, 11), (200000, 11))"
      ]
     },
     "execution_count": 15,
     "metadata": {},
     "output_type": "execute_result"
    }
   ],
   "source": [
    "X_train.shape, X_val.shape"
   ]
  },
  {
   "cell_type": "code",
   "execution_count": 16,
   "metadata": {},
   "outputs": [],
   "source": [
    "validation_customer_ids.to_csv('./validation_customer_ids.csv', header=False, index=False)"
   ]
  },
  {
   "cell_type": "code",
   "execution_count": 26,
   "metadata": {},
   "outputs": [],
   "source": [
    "nb_epoch = 100\n",
    "batch_size = 32\n",
    "input_dim = X_train.shape[1]\n",
    "encoding_dim = 8\n",
    "hidden_dim = encoding_dim // 2\n",
    "learning_rate = 1e-4\n",
    "\n",
    "input_layer = Input(shape=(input_dim, ))\n",
    "encoder = Dense(encoding_dim, activation=\"tanh\", activity_regularizer=regularizers.l1(learning_rate))(input_layer)\n",
    "encoder = Dense(hidden_dim, activation=\"relu\")(encoder)\n",
    "encoder = Dense(hidden_dim//2, activation=\"relu\")(encoder)\n",
    "decoder = Dense(hidden_dim//2, activation='relu')(encoder)\n",
    "decoder = Dense(hidden_dim, activation='relu')(decoder)\n",
    "decoder = Dense(input_dim, activation='tanh')(decoder)\n",
    "autoencoder = Model(inputs=input_layer, outputs=decoder)"
   ]
  },
  {
   "cell_type": "code",
   "execution_count": 27,
   "metadata": {},
   "outputs": [],
   "source": [
    "import os.path\n",
    "def get_name(i=0, unique=True):\n",
    "    fname = f'autoencoder_fraud_{nb_epoch}_{batch_size}_{encoding_dim}_{i}'\n",
    "    if not unique or not os.path.isfile(f'{fname}.h5'):\n",
    "        return fname\n",
    "    else:\n",
    "        return get_name(i+1)"
   ]
  },
  {
   "cell_type": "code",
   "execution_count": 28,
   "metadata": {},
   "outputs": [],
   "source": [
    "#from helpers_keras import f1, precision, recall\n",
    "\n",
    "fname = get_name()\n",
    "\n",
    "autoencoder.compile(metrics=[\"accuracy\"],\n",
    "                    loss='mean_squared_error',\n",
    "                    optimizer='adam')\n",
    "\n",
    "cp = ModelCheckpoint(filepath=f\"{fname}.h5\",\n",
    "                               save_best_only=True,\n",
    "                               verbose=0)\n",
    "\n",
    "tb = TensorBoard(log_dir=f'./logs_{fname}',\n",
    "                histogram_freq=0,\n",
    "                write_graph=True,\n",
    "                write_images=True)"
   ]
  },
  {
   "cell_type": "code",
   "execution_count": null,
   "metadata": {},
   "outputs": [
    {
     "name": "stdout",
     "output_type": "stream",
     "text": [
      "Train on 792750 samples, validate on 200000 samples\n",
      "Epoch 1/100\n",
      "792750/792750 [==============================] - 115s 145us/step - loss: 0.8064 - acc: 0.2849 - val_loss: 0.6682 - val_acc: 0.3329\n",
      "Epoch 2/100\n",
      " 37152/792750 [>.............................] - ETA: 1:42 - loss: 0.7835 - acc: 0.3275"
     ]
    }
   ],
   "source": [
    "history = autoencoder.fit(X_train, X_train,\n",
    "                    epochs=nb_epoch,\n",
    "                    batch_size=batch_size,\n",
    "                    shuffle=True,\n",
    "                    validation_data=(X_val, X_val),\n",
    "                    verbose=1,\n",
    "                    callbacks=[cp, tb]).history"
   ]
  },
  {
   "cell_type": "code",
   "execution_count": null,
   "metadata": {},
   "outputs": [],
   "source": [
    "#from helpers_keras import f1, precision, recall"
   ]
  },
  {
   "cell_type": "code",
   "execution_count": 23,
   "metadata": {},
   "outputs": [
    {
     "data": {
      "text/plain": [
       "2"
      ]
     },
     "execution_count": 23,
     "metadata": {},
     "output_type": "execute_result"
    }
   ],
   "source": [
    "1 + 1"
   ]
  },
  {
   "cell_type": "code",
   "execution_count": 118,
   "metadata": {},
   "outputs": [
    {
     "data": {
      "text/plain": [
       "2"
      ]
     },
     "execution_count": 118,
     "metadata": {},
     "output_type": "execute_result"
    }
   ],
   "source": [
    "1+1"
   ]
  },
  {
   "cell_type": "code",
   "execution_count": 27,
   "metadata": {},
   "outputs": [],
   "source": [
    "autoencoder_trained = load_model(f'{get_name(unique=False)}.h5')"
   ]
  },
  {
   "cell_type": "code",
   "execution_count": 28,
   "metadata": {},
   "outputs": [],
   "source": [
    "predictions = autoencoder_trained.predict(X_val)"
   ]
  },
  {
   "cell_type": "code",
   "execution_count": 29,
   "metadata": {},
   "outputs": [
    {
     "data": {
      "text/html": [
       "<div>\n",
       "<style scoped>\n",
       "    .dataframe tbody tr th:only-of-type {\n",
       "        vertical-align: middle;\n",
       "    }\n",
       "\n",
       "    .dataframe tbody tr th {\n",
       "        vertical-align: top;\n",
       "    }\n",
       "\n",
       "    .dataframe thead th {\n",
       "        text-align: right;\n",
       "    }\n",
       "</style>\n",
       "<table border=\"1\" class=\"dataframe\">\n",
       "  <thead>\n",
       "    <tr style=\"text-align: right;\">\n",
       "      <th></th>\n",
       "      <th>Reconstruction_error</th>\n",
       "      <th>True_class</th>\n",
       "    </tr>\n",
       "  </thead>\n",
       "  <tbody>\n",
       "    <tr>\n",
       "      <th>count</th>\n",
       "      <td>200000.000000</td>\n",
       "      <td>200000.000000</td>\n",
       "    </tr>\n",
       "    <tr>\n",
       "      <th>mean</th>\n",
       "      <td>0.693262</td>\n",
       "      <td>0.009185</td>\n",
       "    </tr>\n",
       "    <tr>\n",
       "      <th>std</th>\n",
       "      <td>15.565393</td>\n",
       "      <td>0.095397</td>\n",
       "    </tr>\n",
       "    <tr>\n",
       "      <th>min</th>\n",
       "      <td>0.028185</td>\n",
       "      <td>0.000000</td>\n",
       "    </tr>\n",
       "    <tr>\n",
       "      <th>25%</th>\n",
       "      <td>0.273617</td>\n",
       "      <td>0.000000</td>\n",
       "    </tr>\n",
       "    <tr>\n",
       "      <th>50%</th>\n",
       "      <td>0.405013</td>\n",
       "      <td>0.000000</td>\n",
       "    </tr>\n",
       "    <tr>\n",
       "      <th>75%</th>\n",
       "      <td>0.631034</td>\n",
       "      <td>0.000000</td>\n",
       "    </tr>\n",
       "    <tr>\n",
       "      <th>max</th>\n",
       "      <td>5353.639188</td>\n",
       "      <td>1.000000</td>\n",
       "    </tr>\n",
       "  </tbody>\n",
       "</table>\n",
       "</div>"
      ],
      "text/plain": [
       "       Reconstruction_error     True_class\n",
       "count         200000.000000  200000.000000\n",
       "mean               0.693262       0.009185\n",
       "std               15.565393       0.095397\n",
       "min                0.028185       0.000000\n",
       "25%                0.273617       0.000000\n",
       "50%                0.405013       0.000000\n",
       "75%                0.631034       0.000000\n",
       "max             5353.639188       1.000000"
      ]
     },
     "execution_count": 29,
     "metadata": {},
     "output_type": "execute_result"
    }
   ],
   "source": [
    "mse = np.mean(np.power(X_val - predictions, 2), axis=1)\n",
    "error_df = pd.DataFrame({'Reconstruction_error': mse,\n",
    "                        'True_class': y_val})\n",
    "error_df = error_df.sort_values('Reconstruction_error')\n",
    "error_df.describe()"
   ]
  },
  {
   "cell_type": "code",
   "execution_count": 31,
   "metadata": {},
   "outputs": [
    {
     "ename": "NameError",
     "evalue": "name 'history' is not defined",
     "output_type": "error",
     "traceback": [
      "\u001b[0;31m---------------------------------------------------------------------------\u001b[0m",
      "\u001b[0;31mNameError\u001b[0m                                 Traceback (most recent call last)",
      "\u001b[0;32m<ipython-input-31-dddde02af6e7>\u001b[0m in \u001b[0;36m<module>\u001b[0;34m()\u001b[0m\n\u001b[0;32m----> 1\u001b[0;31m \u001b[0mplt\u001b[0m\u001b[0;34m.\u001b[0m\u001b[0mplot\u001b[0m\u001b[0;34m(\u001b[0m\u001b[0mhistory\u001b[0m\u001b[0;34m[\u001b[0m\u001b[0;34m'loss'\u001b[0m\u001b[0;34m]\u001b[0m\u001b[0;34m,\u001b[0m \u001b[0mlinewidth\u001b[0m\u001b[0;34m=\u001b[0m\u001b[0;36m2\u001b[0m\u001b[0;34m,\u001b[0m \u001b[0mlabel\u001b[0m\u001b[0;34m=\u001b[0m\u001b[0;34m'Train'\u001b[0m\u001b[0;34m)\u001b[0m\u001b[0;34m\u001b[0m\u001b[0m\n\u001b[0m\u001b[1;32m      2\u001b[0m \u001b[0mplt\u001b[0m\u001b[0;34m.\u001b[0m\u001b[0mplot\u001b[0m\u001b[0;34m(\u001b[0m\u001b[0mhistory\u001b[0m\u001b[0;34m[\u001b[0m\u001b[0;34m'val_loss'\u001b[0m\u001b[0;34m]\u001b[0m\u001b[0;34m,\u001b[0m \u001b[0mlinewidth\u001b[0m\u001b[0;34m=\u001b[0m\u001b[0;36m2\u001b[0m\u001b[0;34m,\u001b[0m \u001b[0mlabel\u001b[0m\u001b[0;34m=\u001b[0m\u001b[0;34m'Test'\u001b[0m\u001b[0;34m)\u001b[0m\u001b[0;34m\u001b[0m\u001b[0m\n\u001b[1;32m      3\u001b[0m \u001b[0mplt\u001b[0m\u001b[0;34m.\u001b[0m\u001b[0mlegend\u001b[0m\u001b[0;34m(\u001b[0m\u001b[0mloc\u001b[0m\u001b[0;34m=\u001b[0m\u001b[0;34m'upper right'\u001b[0m\u001b[0;34m)\u001b[0m\u001b[0;34m\u001b[0m\u001b[0m\n\u001b[1;32m      4\u001b[0m \u001b[0mplt\u001b[0m\u001b[0;34m.\u001b[0m\u001b[0mtitle\u001b[0m\u001b[0;34m(\u001b[0m\u001b[0;34m'Model loss'\u001b[0m\u001b[0;34m)\u001b[0m\u001b[0;34m\u001b[0m\u001b[0m\n\u001b[1;32m      5\u001b[0m \u001b[0mplt\u001b[0m\u001b[0;34m.\u001b[0m\u001b[0mylabel\u001b[0m\u001b[0;34m(\u001b[0m\u001b[0;34m'Loss'\u001b[0m\u001b[0;34m)\u001b[0m\u001b[0;34m\u001b[0m\u001b[0m\n",
      "\u001b[0;31mNameError\u001b[0m: name 'history' is not defined"
     ]
    }
   ],
   "source": [
    "plt.plot(history['loss'], linewidth=2, label='Train')\n",
    "plt.plot(history['val_loss'], linewidth=2, label='Test')\n",
    "plt.legend(loc='upper right')\n",
    "plt.title('Model loss')\n",
    "plt.ylabel('Loss')\n",
    "plt.xlabel('Epoch')\n",
    "#plt.ylim(ymin=0.70,ymax=1)\n",
    "plt.show()"
   ]
  },
  {
   "cell_type": "code",
   "execution_count": 32,
   "metadata": {},
   "outputs": [
    {
     "data": {
      "image/png": "[encoded data removed]",
      "text/plain": [
       "<Figure size 432x288 with 1 Axes>"
      ]
     },
     "metadata": {},
     "output_type": "display_data"
    }
   ],
   "source": [
    "false_pos_rate, true_pos_rate, thresholds = roc_curve(error_df.True_class, error_df.Reconstruction_error)\n",
    "roc_auc = auc(false_pos_rate, true_pos_rate,)\n",
    "\n",
    "plt.plot(false_pos_rate, true_pos_rate, linewidth=5, label='AUC = %0.3f'% roc_auc)\n",
    "plt.plot([0,1],[0,1], linewidth=5)\n",
    "\n",
    "plt.xlim([-0.01, 1])\n",
    "plt.ylim([0, 1.01])\n",
    "plt.legend(loc='lower right')\n",
    "plt.title('Receiver operating characteristic curve (ROC)')\n",
    "plt.ylabel('True Positive Rate')\n",
    "plt.xlabel('False Positive Rate')\n",
    "plt.show()"
   ]
  },
  {
   "cell_type": "code",
   "execution_count": 33,
   "metadata": {},
   "outputs": [
    {
     "data": {
      "image/png": "[encoded data removed]",
      "text/plain": [
       "<Figure size 432x288 with 1 Axes>"
      ]
     },
     "metadata": {},
     "output_type": "display_data"
    }
   ],
   "source": [
    "precision_rt, recall_rt, threshold_rt = precision_recall_curve(error_df.True_class, error_df.Reconstruction_error)\n",
    "plt.plot(recall_rt, precision_rt, linewidth=5, label='Precision-Recall curve')\n",
    "plt.title('Recall vs Precision')\n",
    "plt.xlabel('Recall')\n",
    "plt.ylabel('Precision')\n",
    "plt.show()"
   ]
  },
  {
   "cell_type": "code",
   "execution_count": 34,
   "metadata": {},
   "outputs": [
    {
     "data": {
      "image/png": "[encoded data removed]",
      "text/plain": [
       "<Figure size 432x288 with 1 Axes>"
      ]
     },
     "metadata": {},
     "output_type": "display_data"
    }
   ],
   "source": [
    "plt.plot(threshold_rt, precision_rt[1:], label=\"Precision\",linewidth=5)\n",
    "plt.plot(threshold_rt, recall_rt[1:], label=\"Recall\",linewidth=5)\n",
    "plt.title('Precision and recall for different threshold values')\n",
    "plt.xlabel('Threshold')\n",
    "plt.ylabel('Precision/Recall')\n",
    "plt.legend()\n",
    "plt.show()"
   ]
  },
  {
   "cell_type": "code",
   "execution_count": 35,
   "metadata": {},
   "outputs": [
    {
     "data": {
      "image/png": "[encoded data removed]",
      "text/plain": [
       "<Figure size 432x288 with 1 Axes>"
      ]
     },
     "metadata": {},
     "output_type": "display_data"
    }
   ],
   "source": [
    "threshold_fixed = 0.6\n",
    "groups = error_df.groupby('True_class')\n",
    "fig, ax = plt.subplots()\n",
    "\n",
    "for name, group in groups:\n",
    "    ax.plot(group.index, group.Reconstruction_error, marker='o', ms=3.5, linestyle='',\n",
    "            label= \"Fraud\" if name == 1 else \"Normal\")\n",
    "ax.hlines(threshold_fixed, ax.get_xlim()[0], ax.get_xlim()[1], colors=\"r\", zorder=100, label='Threshold')\n",
    "ax.legend()\n",
    "plt.title(\"Reconstruction error for different classes\")\n",
    "plt.ylabel(\"Reconstruction error\")\n",
    "plt.xlabel(\"Data point index\")\n",
    "plt.show();"
   ]
  },
  {
   "cell_type": "code",
   "execution_count": 36,
   "metadata": {},
   "outputs": [
    {
     "data": {
      "image/png": "[encoded data removed]",
      "text/plain": [
       "<Figure size 864x864 with 2 Axes>"
      ]
     },
     "metadata": {},
     "output_type": "display_data"
    }
   ],
   "source": [
    "pred_y = [1 if e > threshold_fixed else 0 for e in error_df.Reconstruction_error.values]\n",
    "conf_matrix = confusion_matrix(error_df.True_class, pred_y)\n",
    "\n",
    "plt.figure(figsize=(12, 12))\n",
    "sns.heatmap(conf_matrix, xticklabels=LABELS, yticklabels=LABELS, annot=True, fmt=\"d\");\n",
    "plt.title(\"Confusion matrix\")\n",
    "plt.ylabel('True class')\n",
    "plt.xlabel('Predicted class')\n",
    "plt.show()"
   ]
  },
  {
   "cell_type": "code",
   "execution_count": 179,
   "metadata": {},
   "outputs": [],
   "source": [
    "pred_df = pd.DataFrame({'customer':validation_customer_ids[0], 'pred':mse}).set_index('customer').sort_values('pred')"
   ]
  },
  {
   "cell_type": "code",
   "execution_count": 180,
   "metadata": {},
   "outputs": [
    {
     "data": {
      "text/html": [
       "<div>\n",
       "<style scoped>\n",
       "    .dataframe tbody tr th:only-of-type {\n",
       "        vertical-align: middle;\n",
       "    }\n",
       "\n",
       "    .dataframe tbody tr th {\n",
       "        vertical-align: top;\n",
       "    }\n",
       "\n",
       "    .dataframe thead th {\n",
       "        text-align: right;\n",
       "    }\n",
       "</style>\n",
       "<table border=\"1\" class=\"dataframe\">\n",
       "  <thead>\n",
       "    <tr style=\"text-align: right;\">\n",
       "      <th></th>\n",
       "      <th>pred</th>\n",
       "    </tr>\n",
       "    <tr>\n",
       "      <th>customer</th>\n",
       "      <th></th>\n",
       "    </tr>\n",
       "  </thead>\n",
       "  <tbody>\n",
       "    <tr>\n",
       "      <th>90805307</th>\n",
       "      <td>0.022396</td>\n",
       "    </tr>\n",
       "    <tr>\n",
       "      <th>90593639</th>\n",
       "      <td>0.024397</td>\n",
       "    </tr>\n",
       "    <tr>\n",
       "      <th>90478307</th>\n",
       "      <td>0.024931</td>\n",
       "    </tr>\n",
       "    <tr>\n",
       "      <th>90166741</th>\n",
       "      <td>0.025129</td>\n",
       "    </tr>\n",
       "    <tr>\n",
       "      <th>90869420</th>\n",
       "      <td>0.025575</td>\n",
       "    </tr>\n",
       "  </tbody>\n",
       "</table>\n",
       "</div>"
      ],
      "text/plain": [
       "              pred\n",
       "customer          \n",
       "90805307  0.022396\n",
       "90593639  0.024397\n",
       "90478307  0.024931\n",
       "90166741  0.025129\n",
       "90869420  0.025575"
      ]
     },
     "execution_count": 180,
     "metadata": {},
     "output_type": "execute_result"
    }
   ],
   "source": [
    "pred_df.head()"
   ]
  },
  {
   "cell_type": "code",
   "execution_count": 161,
   "metadata": {},
   "outputs": [
    {
     "data": {
      "text/html": [
       "<div>\n",
       "<style scoped>\n",
       "    .dataframe tbody tr th:only-of-type {\n",
       "        vertical-align: middle;\n",
       "    }\n",
       "\n",
       "    .dataframe tbody tr th {\n",
       "        vertical-align: top;\n",
       "    }\n",
       "\n",
       "    .dataframe thead th {\n",
       "        text-align: right;\n",
       "    }\n",
       "</style>\n",
       "<table border=\"1\" class=\"dataframe\">\n",
       "  <thead>\n",
       "    <tr style=\"text-align: right;\">\n",
       "      <th></th>\n",
       "      <th>pred</th>\n",
       "      <th>suspicious</th>\n",
       "    </tr>\n",
       "    <tr>\n",
       "      <th>customer</th>\n",
       "      <th></th>\n",
       "      <th></th>\n",
       "    </tr>\n",
       "  </thead>\n",
       "  <tbody>\n",
       "    <tr>\n",
       "      <th>90805307</th>\n",
       "      <td>0.022396</td>\n",
       "      <td>1</td>\n",
       "    </tr>\n",
       "    <tr>\n",
       "      <th>90593639</th>\n",
       "      <td>0.024397</td>\n",
       "      <td>0</td>\n",
       "    </tr>\n",
       "    <tr>\n",
       "      <th>90478307</th>\n",
       "      <td>0.024931</td>\n",
       "      <td>0</td>\n",
       "    </tr>\n",
       "    <tr>\n",
       "      <th>90166741</th>\n",
       "      <td>0.025129</td>\n",
       "      <td>0</td>\n",
       "    </tr>\n",
       "    <tr>\n",
       "      <th>90869420</th>\n",
       "      <td>0.025575</td>\n",
       "      <td>0</td>\n",
       "    </tr>\n",
       "  </tbody>\n",
       "</table>\n",
       "</div>"
      ],
      "text/plain": [
       "              pred  suspicious\n",
       "customer                      \n",
       "90805307  0.022396           1\n",
       "90593639  0.024397           0\n",
       "90478307  0.024931           0\n",
       "90166741  0.025129           0\n",
       "90869420  0.025575           0"
      ]
     },
     "execution_count": 161,
     "metadata": {},
     "output_type": "execute_result"
    }
   ],
   "source": [
    "final_results = pd.merge(pred_df, y_val.to_frame(), how='inner', left_index=True, right_index=True)\n",
    "final_results.head()"
   ]
  },
  {
   "cell_type": "code",
   "execution_count": null,
   "metadata": {},
   "outputs": [],
   "source": []
  },
  {
   "cell_type": "code",
   "execution_count": 166,
   "metadata": {},
   "outputs": [
    {
     "data": {
      "text/plain": [
       "23557"
      ]
     },
     "execution_count": 166,
     "metadata": {},
     "output_type": "execute_result"
    }
   ],
   "source": [
    "(final_results['pred'] > 0.5).sum()"
   ]
  },
  {
   "cell_type": "code",
   "execution_count": 171,
   "metadata": {},
   "outputs": [
    {
     "data": {
      "text/plain": [
       "94.3225"
      ]
     },
     "execution_count": 171,
     "metadata": {},
     "output_type": "execute_result"
    }
   ],
   "source": [
    "((final_results['pred'] > 0.8) == final_results['suspicious']).sum() / 2000"
   ]
  },
  {
   "cell_type": "code",
   "execution_count": 74,
   "metadata": {},
   "outputs": [
    {
     "name": "stderr",
     "output_type": "stream",
     "text": [
      "/usr/local/lib/python3.6/site-packages/scipy/stats/stats.py:1713: FutureWarning: Using a non-tuple sequence for multidimensional indexing is deprecated; use `arr[tuple(seq)]` instead of `arr[seq]`. In the future this will be interpreted as an array index, `arr[np.array(seq)]`, which will result either in an error or a different result.\n",
      "  return np.add.reduce(sorted[indexer] * weights, axis=axis) / sumval\n"
     ]
    },
    {
     "data": {
      "text/plain": [
       "<matplotlib.axes._subplots.AxesSubplot at 0x7f3591e055f8>"
      ]
     },
     "execution_count": 74,
     "metadata": {},
     "output_type": "execute_result"
    },
    {
     "data": {
      "image/png": "[encoded data removed]",
      "text/plain": [
       "<Figure size 1008x626.4 with 1 Axes>"
      ]
     },
     "metadata": {},
     "output_type": "display_data"
    }
   ],
   "source": [
    "sns.distplot(pred.sort_values(0).values[:-1000], kde=False)\n",
    "#plt.yscale('log')"
   ]
  },
  {
   "cell_type": "code",
   "execution_count": 75,
   "metadata": {},
   "outputs": [
    {
     "data": {
      "text/plain": [
       "1837"
      ]
     },
     "execution_count": 75,
     "metadata": {},
     "output_type": "execute_result"
    }
   ],
   "source": [
    "y_val.sum()"
   ]
  },
  {
   "cell_type": "code",
   "execution_count": null,
   "metadata": {},
   "outputs": [],
   "source": [
    "pred.values[:-1000]"
   ]
  }
 ],
 "metadata": {
  "kernelspec": {
   "display_name": "Python 3",
   "language": "python",
   "name": "python3"
  },
  "language_info": {
   "codemirror_mode": {
    "name": "ipython",
    "version": 3
   },
   "file_extension": ".py",
   "mimetype": "text/x-python",
   "name": "python",
   "nbconvert_exporter": "python",
   "pygments_lexer": "ipython3",
   "version": "3.6.5"
  }
 },
 "nbformat": 4,
 "nbformat_minor": 2
}
